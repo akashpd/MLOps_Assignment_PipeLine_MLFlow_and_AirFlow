{
 "cells": [
  {
   "cell_type": "code",
   "execution_count": 1,
   "id": "ffdb4acc-0737-4c96-b707-211bdfc01e62",
   "metadata": {},
   "outputs": [],
   "source": [
    "from test_with_pytest import *"
   ]
  },
  {
   "cell_type": "code",
   "execution_count": 2,
   "id": "f4fe2ce6-6352-49d4-81f1-ef64f2d955fe",
   "metadata": {},
   "outputs": [
    {
     "name": "stdout",
     "output_type": "stream",
     "text": [
      "(100, 44)\n",
      "DB Already Exist\n",
      "/home/Assignment/01_data_pipeline/scripts/unit_test\n",
      "(100, 45)\n",
      "(100, 45)\n"
     ]
    }
   ],
   "source": [
    "test_load_data_into_db()"
   ]
  },
  {
   "cell_type": "code",
   "execution_count": 3,
   "id": "1e432bea-b718-4a0a-a5a2-d7917745a405",
   "metadata": {},
   "outputs": [
    {
     "name": "stdout",
     "output_type": "stream",
     "text": [
      "(100, 45)\n",
      "(100, 45)\n"
     ]
    }
   ],
   "source": [
    "test_map_city_tier()"
   ]
  },
  {
   "cell_type": "code",
   "execution_count": 4,
   "id": "64ab94cc-a95c-4f12-9bca-ad47b89dc43c",
   "metadata": {},
   "outputs": [
    {
     "name": "stdout",
     "output_type": "stream",
     "text": [
      "Test Row count 100\n",
      "Actual Row Count 240000\n"
     ]
    }
   ],
   "source": [
    "cnx = sqlite3.connect('/home/Assignment/01_data_pipeline/scripts/' + 'unit_test_cases.db')\n",
    "df = pd.read_sql(f\"SELECT name FROM sqlite_master WHERE type='table'\", cnx)\n",
    "df = pd.read_sql('select * from categorical_variables_mapped_test_case', cnx)\n",
    "print(\"Test Row count\",df.shape[0])\n",
    "cnx.close()\n",
    "\n",
    "cnx = sqlite3.connect('/home/Assignment/01_data_pipeline/scripts/' + 'utils_output.db')\n",
    "df = pd.read_sql(f\"SELECT name FROM sqlite_master WHERE type='table'\", cnx)\n",
    "df = pd.read_sql('select * from categorical_variables_mapped', cnx)\n",
    "print(\"Actual Row Count\",df.shape[0])\n",
    "cnx.close()\n"
   ]
  },
  {
   "cell_type": "code",
   "execution_count": 5,
   "id": "77ee7a78-eec2-4e5c-a16b-8b835b63277e",
   "metadata": {},
   "outputs": [
    {
     "name": "stdout",
     "output_type": "stream",
     "text": [
      "(100, 45)\n",
      "(100, 45)\n"
     ]
    },
    {
     "name": "stderr",
     "output_type": "stream",
     "text": [
      "/home/Assignment/01_data_pipeline/scripts/unit_test/utils.py:186: SettingWithCopyWarning: \n",
      "A value is trying to be set on a copy of a slice from a DataFrame.\n",
      "Try using .loc[row_indexer,col_indexer] = value instead\n",
      "\n",
      "See the caveats in the documentation: https://pandas.pydata.org/pandas-docs/stable/user_guide/indexing.html#returning-a-view-versus-a-copy\n",
      "  new_df['first_platform_c'] = \"others\"\n",
      "/home/Assignment/01_data_pipeline/scripts/unit_test/utils.py:191: SettingWithCopyWarning: \n",
      "A value is trying to be set on a copy of a slice from a DataFrame.\n",
      "Try using .loc[row_indexer,col_indexer] = value instead\n",
      "\n",
      "See the caveats in the documentation: https://pandas.pydata.org/pandas-docs/stable/user_guide/indexing.html#returning-a-view-versus-a-copy\n",
      "  new_df['first_utm_medium_c'] = \"others\"\n",
      "/home/Assignment/01_data_pipeline/scripts/unit_test/utils.py:196: SettingWithCopyWarning: \n",
      "A value is trying to be set on a copy of a slice from a DataFrame.\n",
      "Try using .loc[row_indexer,col_indexer] = value instead\n",
      "\n",
      "See the caveats in the documentation: https://pandas.pydata.org/pandas-docs/stable/user_guide/indexing.html#returning-a-view-versus-a-copy\n",
      "  new_df['first_utm_source_c'] = \"others\"\n"
     ]
    }
   ],
   "source": [
    "test_map_categorical_vars()"
   ]
  },
  {
   "cell_type": "code",
   "execution_count": null,
   "id": "003f2e9c-3aea-414b-8739-53ff805aa7d8",
   "metadata": {},
   "outputs": [],
   "source": []
  },
  {
   "cell_type": "code",
   "execution_count": 8,
   "id": "69356dee-8ba7-4419-a428-06a3bcdbc39d",
   "metadata": {},
   "outputs": [
    {
     "name": "stdout",
     "output_type": "stream",
     "text": [
      "(100, 13)\n",
      "(100, 13)\n"
     ]
    }
   ],
   "source": [
    "test_interactions_mapping()"
   ]
  },
  {
   "cell_type": "code",
   "execution_count": null,
   "id": "e8b2937b-c0f3-4392-85fb-2b35a00b635b",
   "metadata": {},
   "outputs": [],
   "source": []
  }
 ],
 "metadata": {
  "kernelspec": {
   "display_name": "Python 3 (ipykernel)",
   "language": "python",
   "name": "python3"
  },
  "language_info": {
   "codemirror_mode": {
    "name": "ipython",
    "version": 3
   },
   "file_extension": ".py",
   "mimetype": "text/x-python",
   "name": "python",
   "nbconvert_exporter": "python",
   "pygments_lexer": "ipython3",
   "version": "3.8.12"
  }
 },
 "nbformat": 4,
 "nbformat_minor": 5
}

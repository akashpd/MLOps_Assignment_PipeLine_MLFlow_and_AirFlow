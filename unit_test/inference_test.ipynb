{
 "cells": [
  {
   "cell_type": "code",
   "execution_count": 1,
   "id": "85451180-8578-4575-a6c8-996049189940",
   "metadata": {},
   "outputs": [],
   "source": [
    "import utils"
   ]
  },
  {
   "cell_type": "code",
   "execution_count": 2,
   "id": "fa8aaf8b-389b-4b0a-809d-5c8451e7cb22",
   "metadata": {},
   "outputs": [
    {
     "name": "stdout",
     "output_type": "stream",
     "text": [
      "Data has been extracted successfully from lead_scoring_model_experimentation.\n",
      "input_data has been saved successfully to table features\n"
     ]
    }
   ],
   "source": [
    "utils.encode_features()"
   ]
  },
  {
   "cell_type": "code",
   "execution_count": 3,
   "id": "bc37a4d7-9b00-4fe8-8c92-5c7916e27d0b",
   "metadata": {},
   "outputs": [
    {
     "name": "stdout",
     "output_type": "stream",
     "text": [
      "Data has been extracted successfully from lead_scoring_model_experimentation.\n",
      "Some of the models inputs are missing\n"
     ]
    }
   ],
   "source": [
    "utils.input_features_check()"
   ]
  },
  {
   "cell_type": "code",
   "execution_count": 4,
   "id": "5f2beb84-6ad6-405c-860f-ffadd4f8e360",
   "metadata": {},
   "outputs": [],
   "source": [
    "db_path = '/home/Assignment/03_inference_pipeline/scripts/'\n",
    "db_file_name = 'lead_scoring_data_cleaning.db'"
   ]
  },
  {
   "cell_type": "code",
   "execution_count": 5,
   "id": "2828a96a-307c-49a3-8a9e-7e5e94a8a2e9",
   "metadata": {},
   "outputs": [],
   "source": [
    "import sqlite3"
   ]
  },
  {
   "cell_type": "code",
   "execution_count": 6,
   "id": "2d6a5cf8-b19d-4003-9048-2046ad9ebf57",
   "metadata": {},
   "outputs": [
    {
     "name": "stdout",
     "output_type": "stream",
     "text": [
      "DB Already Exist\n",
      "/home/Assignment/03_inference_pipeline/scripts\n"
     ]
    }
   ],
   "source": [
    "#create DB\n",
    "import os\n",
    "\n",
    "if os.path.isfile(db_path+db_file_name):\n",
    "    print( \"DB Already Exist\")\n",
    "    print(os.getcwd())\n",
    "else:\n",
    "    print (\"Creating Database\")\n",
    "    \"\"\" create a database connection to a SQLite database \"\"\"\n",
    "    conn = None\n",
    "    try:\n",
    "        conn = sqlite3.connect(db_path+db_file_name)\n",
    "        print(\"New DB Created\")\n",
    "    except Error as e:\n",
    "        print(e)\n",
    "        print(\"Error\")\n",
    "    finally:\n",
    "        if conn:\n",
    "            conn.close()\n",
    "            print(\"DB Created\")\n"
   ]
  },
  {
   "cell_type": "code",
   "execution_count": 7,
   "id": "50a5c290-b98a-480b-ac89-8a18a86eb192",
   "metadata": {},
   "outputs": [],
   "source": [
    "#run on terminal\n",
    "#cd Assignment\n",
    "# mlflow server --backend-store-uri='sqlite:///./03_inference_pipeline/scripts/lead_scoring_data_cleaning.db' --default-artifact-root=\"/home/Assignment/mlruns\" --port=6006 --host=0.0.0.0\n",
    "\n"
   ]
  },
  {
   "cell_type": "code",
   "execution_count": 8,
   "id": "701f9c64-3f8d-4e25-9ec1-bf3639160a5b",
   "metadata": {},
   "outputs": [
    {
     "name": "stdout",
     "output_type": "stream",
     "text": [
      "Data has been extracted successfully from lead_scoring_model_experimentation.\n",
      "[0 0 0 ... 1 1 1]\n",
      "input_data has been saved successfully to table predicted_output\n"
     ]
    },
    {
     "data": {
      "text/plain": [
       "'Predictions are done and save in Final_Predictions Table'"
      ]
     },
     "execution_count": 8,
     "metadata": {},
     "output_type": "execute_result"
    }
   ],
   "source": [
    "utils.get_models_prediction()"
   ]
  },
  {
   "cell_type": "code",
   "execution_count": 9,
   "id": "be7955ce-ec97-4a7a-9cf6-67449e4bb841",
   "metadata": {},
   "outputs": [
    {
     "name": "stdout",
     "output_type": "stream",
     "text": [
      "Data has been extracted successfully from lead_scoring_model_experimentation.\n",
      "Output file has been generated successfully /home/dags/Lead_scoring_inference_pipeline/prediction_distribution_20230422221244.txt\n"
     ]
    }
   ],
   "source": [
    "utils.prediction_ratio_check()"
   ]
  },
  {
   "cell_type": "code",
   "execution_count": null,
   "id": "f6f5e776-0a6d-4655-a15e-a0b2683ea7ba",
   "metadata": {},
   "outputs": [],
   "source": []
  }
 ],
 "metadata": {
  "kernelspec": {
   "display_name": "Python 3 (ipykernel)",
   "language": "python",
   "name": "python3"
  },
  "language_info": {
   "codemirror_mode": {
    "name": "ipython",
    "version": 3
   },
   "file_extension": ".py",
   "mimetype": "text/x-python",
   "name": "python",
   "nbconvert_exporter": "python",
   "pygments_lexer": "ipython3",
   "version": "3.8.12"
  }
 },
 "nbformat": 4,
 "nbformat_minor": 5
}
